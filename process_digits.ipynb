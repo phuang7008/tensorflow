{
 "cells": [
  {
   "cell_type": "code",
   "execution_count": 1,
   "metadata": {
    "collapsed": false
   },
   "outputs": [
    {
     "data": {
      "application/javascript": [
       "IPython.notebook.set_autosave_interval(5000)"
      ]
     },
     "metadata": {},
     "output_type": "display_data"
    },
    {
     "name": "stdout",
     "output_type": "stream",
     "text": [
      "Autosaving every 5 seconds\n"
     ]
    }
   ],
   "source": [
    "%autosave 5"
   ]
  },
  {
   "cell_type": "code",
   "execution_count": null,
   "metadata": {
    "collapsed": false
   },
   "outputs": [
    {
     "name": "stdout",
     "output_type": "stream",
     "text": [
      "Extracting /tmp/data/train-images-idx3-ubyte.gz\n",
      "Extracting /tmp/data/train-labels-idx1-ubyte.gz\n",
      "Extracting /tmp/data/t10k-images-idx3-ubyte.gz\n",
      "Extracting /tmp/data/t10k-labels-idx1-ubyte.gz\n",
      "784\n"
     ]
    }
   ],
   "source": [
    "import tensorflow as tf\n",
    "from tensorflow.examples.tutorials.mnist import input_data\n",
    "import numpy as np\n",
    "\n",
    "mnist = input_data.read_data_sets('/tmp/data/', one_hot=True )\n",
    "\n",
    "n_features = 28 * 28\n",
    "n_classes = 10\n",
    "batch_size = 100\n",
    "\n",
    "n_nodes_layers = [n_features, 500, 700]\n",
    "print(n_nodes_layers[0])\n",
    "\n",
    "x = tf.placeholder('float', [None, n_features])\n",
    "y = tf.placeholder('float')\n",
    "\n",
    "def neural_network_model(data):\n",
    "    # the model usually follows the following formula\n",
    "    # (input_data * Weights) + biases\n",
    "    hidden_layers = []\n",
    "    input_layer = n_features\n",
    "    for i in range(len(n_nodes_layers)):\n",
    "        weight = tf.Variable(tf.random_normal([input_layer, n_nodes_layers[i]]))\n",
    "        biases = tf.Variable(tf.random_normal([n_nodes_layers[i]]))\n",
    "        hidden_layer = {'weights' : weight, 'biases' : biases}\n",
    "        hidden_layers.append(hidden_layer)\n",
    "        input_layer = n_nodes_layers[i]\n",
    "        \n",
    "    output_layer = {'weights':tf.Variable(tf.random_normal([input_layer, n_classes])),\n",
    "                    'biases':tf.Variable(tf.random_normal([n_classes]))}\n",
    "    \n",
    "    # now define our model y = m*x + b\n",
    "    input_data = data\n",
    "    for i in range(len(hidden_layers)):\n",
    "        input_data = tf.add(tf.matmul(input_data, hidden_layers[i]['weights']), \n",
    "                            hidden_layers[i]['biases'])\n",
    "        input_data = tf.nn.relu(input_data)\n",
    "        \n",
    "    output = tf.matmul(input_data, output_layer['weights']) + output_layer['biases']\n",
    "    return output\n",
    "    \n",
    "def train_neural_network(data, learningRate=0.001):\n",
    "    prediction = neural_network_model(data)\n",
    "    cost = tf.reduce_mean( tf.nn.softmax_cross_entropy_with_logits(prediction, y) )\n",
    "    optimizer = tf.train.AdamOptimizer(learningRate).minimize(cost)\n",
    "    \n",
    "    hm_epochs = 10   # this is the number of (feed forward + backpropagation) \n",
    "    \n",
    "    with tf.Session() as sess:\n",
    "        sess.run(tf.initialize_all_variables())\n",
    "        \n",
    "        for epoch in range(hm_epochs):\n",
    "            epoch_loss = 0\n",
    "            for _ in range(int(mnist.train.num_examples/batch_size)):\n",
    "                epoch_x, epoch_y = mnist.train.next_batch(batch_size)\n",
    "                _, c = sess.run([optimizer, cost], feed_dict={x:epoch_x, y:epoch_y})\n",
    "                epoch_loss += c\n",
    "                \n",
    "            print(\"Epoch: \", epoch, \"completed out of \", hm_epochs, \"with loss:\", epoch_loss)\n",
    "            \n",
    "        correct = tf.equal(tf.argmax(prediction,1), tf.argmax(y,1))\n",
    "        accuracy = tf.reduce_mean(tf.cast(correct, 'float'))\n",
    "        \n",
    "        print(\"Accuracy: \", accuracy.eval({x:mnist.test.images, y:mnist.test.labels}))\n",
    "        \n",
    "train_neural_network(x)\n",
    "    \n",
    "        \n",
    "    \n",
    "    "
   ]
  },
  {
   "cell_type": "code",
   "execution_count": null,
   "metadata": {
    "collapsed": true
   },
   "outputs": [],
   "source": []
  }
 ],
 "metadata": {
  "kernelspec": {
   "display_name": "Python 2",
   "language": "python",
   "name": "python2"
  },
  "language_info": {
   "codemirror_mode": {
    "name": "ipython",
    "version": 2
   },
   "file_extension": ".py",
   "mimetype": "text/x-python",
   "name": "python",
   "nbconvert_exporter": "python",
   "pygments_lexer": "ipython2",
   "version": "2.7.6"
  }
 },
 "nbformat": 4,
 "nbformat_minor": 1
}
