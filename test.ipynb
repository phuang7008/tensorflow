{
 "cells": [
  {
   "cell_type": "code",
   "execution_count": 1,
   "metadata": {
    "collapsed": false
   },
   "outputs": [
    {
     "data": {
      "application/javascript": [
       "IPython.notebook.set_autosave_interval(6000)"
      ]
     },
     "metadata": {},
     "output_type": "display_data"
    },
    {
     "name": "stdout",
     "output_type": "stream",
     "text": [
      "Autosaving every 6 seconds\n"
     ]
    }
   ],
   "source": [
    "%autosave 6"
   ]
  },
  {
   "cell_type": "code",
   "execution_count": 2,
   "metadata": {
    "collapsed": false
   },
   "outputs": [
    {
     "name": "stdout",
     "output_type": "stream",
     "text": [
      "Tensor(\"Mul:0\", shape=(), dtype=int32)\n",
      "Tensor(\"Const_2:0\", shape=(2, 1), dtype=int32)\n",
      "Tensor(\"Const_3:0\", shape=(1, 2), dtype=int32)\n",
      "30\n",
      "[[ 7  2]\n",
      " [35 10]]\n",
      "30\n"
     ]
    }
   ],
   "source": [
    "import tensorflow as tf\n",
    "\n",
    "# everything will be stored in tensor object, until you setup a session to run it\n",
    "# here you will build your model (or computational graph), such as number of nodes and number of layers etc!\n",
    "x1 = tf.constant(5)\n",
    "x2 = tf.constant(6)\n",
    "result = tf.mul(x1, x2)   # this is the official way to do it, you could try result=x1*x2, which will give you the same thing\n",
    "print(result)\n",
    "\n",
    "# how about in matrix(array) way\n",
    "x3 = tf.constant([1,5], shape=[2,1])\n",
    "x4 = tf.constant([7,2], shape=[1,2])\n",
    "print(x3)\n",
    "print(x4)\n",
    "result1 = tf.matmul(x3, x4)\n",
    "\n",
    "sess = tf.Session()\n",
    "print(sess.run(result))\n",
    "print(sess.run(result1))\n",
    "sess.close()    # don't forget to close the session!!!\n",
    "\n",
    "# however, you could use the following way to let the program handle the closing\n",
    "with tf.Session() as sess:\n",
    "    print(sess.run(result))"
   ]
  },
  {
   "cell_type": "code",
   "execution_count": 3,
   "metadata": {
    "collapsed": false
   },
   "outputs": [
    {
     "name": "stdout",
     "output_type": "stream",
     "text": [
      "('Step: ', 0, 'Session params: ', array([ 0.31854051], dtype=float32), array([ 0.24920619], dtype=float32))\n",
      "('Step: ', 20, 'Session params: ', array([ 0.1583382], dtype=float32), array([ 0.26929161], dtype=float32))\n",
      "('Step: ', 40, 'Session params: ', array([ 0.11772014], dtype=float32), array([ 0.29067239], dtype=float32))\n",
      "('Step: ', 60, 'Session params: ', array([ 0.10538246], dtype=float32), array([ 0.29716676], dtype=float32))\n",
      "('Step: ', 80, 'Session params: ', array([ 0.10163492], dtype=float32), array([ 0.29913941], dtype=float32))\n",
      "('Step: ', 100, 'Session params: ', array([ 0.10049661], dtype=float32), array([ 0.29973862], dtype=float32))\n",
      "('Step: ', 120, 'Session params: ', array([ 0.10015085], dtype=float32), array([ 0.29992062], dtype=float32))\n",
      "('Step: ', 140, 'Session params: ', array([ 0.10004583], dtype=float32), array([ 0.2999759], dtype=float32))\n",
      "('Step: ', 160, 'Session params: ', array([ 0.10001392], dtype=float32), array([ 0.29999268], dtype=float32))\n",
      "('Step: ', 180, 'Session params: ', array([ 0.10000425], dtype=float32), array([ 0.29999778], dtype=float32))\n",
      "('Step: ', 200, 'Session params: ', array([ 0.10000131], dtype=float32), array([ 0.29999933], dtype=float32))\n"
     ]
    }
   ],
   "source": [
    "import numpy as np\n",
    "\n",
    "x_data = np.random.rand(100).astype(np.float32)\n",
    "y_data = x_data*0.1 + 0.3\n",
    "\n",
    "# create tensorflow model structure starts\n",
    "Weights = tf.Variable(tf.random_uniform([1], -1.0, 1.0))\n",
    "biases = tf.Variable(tf.zeros([1]))\n",
    "y = Weights * x_data + biases\n",
    "\n",
    "loss = tf.reduce_mean(tf.square(y-y_data))\n",
    "optimizer = tf.train.GradientDescentOptimizer(0.5)\n",
    "train = optimizer.minimize(loss)\n",
    "# end tensorflow model structure\n",
    "\n",
    "init = tf.initialize_all_variables()\n",
    "sess = tf.Session()\n",
    "sess.run(init)\n",
    "\n",
    "for step in range(201):\n",
    "    sess.run(train)\n",
    "    if step % 20 == 0:\n",
    "        print(\"Step: \", step, \"Session params: \", sess.run(Weights), sess.run(biases))\n"
   ]
  },
  {
   "cell_type": "code",
   "execution_count": null,
   "metadata": {
    "collapsed": true
   },
   "outputs": [],
   "source": []
  }
 ],
 "metadata": {
  "kernelspec": {
   "display_name": "Python 2",
   "language": "python",
   "name": "python2"
  },
  "language_info": {
   "codemirror_mode": {
    "name": "ipython",
    "version": 2
   },
   "file_extension": ".py",
   "mimetype": "text/x-python",
   "name": "python",
   "nbconvert_exporter": "python",
   "pygments_lexer": "ipython2",
   "version": "2.7.6"
  }
 },
 "nbformat": 4,
 "nbformat_minor": 1
}
